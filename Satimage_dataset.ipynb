{
  "nbformat": 4,
  "nbformat_minor": 0,
  "metadata": {
    "colab": {
      "name": "Untitled0.ipynb",
      "provenance": [],
      "authorship_tag": "ABX9TyPpsFHxNfU9APDSJ/uSeh6q"
    },
    "kernelspec": {
      "name": "python3",
      "display_name": "Python 3"
    },
    "language_info": {
      "name": "python"
    }
  },
  "cells": [
    {
      "cell_type": "markdown",
      "metadata": {
        "id": "0xOhIrcyyDdR"
      },
      "source": [
        "## Satimage dataset"
      ]
    },
    {
      "cell_type": "markdown",
      "metadata": {
        "id": "Y-bqWBOoyH7D"
      },
      "source": [
        "[The database](http://archive.ics.uci.edu/ml/datasets/Statlog+%28Landsat+Satellite%29) consists of the multi-spectral values of pixels in 3x3 neighbourhoods in a satellite image, and the classification associated with the central pixel in each neighbourhood. The aim is to predict this classification, given the multi-spectral values. In the sample database, the class of a pixel is coded as a number.\n",
        "There are 5809 examples of majority class and 626 examples of minority class with 36 features."
      ]
    },
    {
      "cell_type": "code",
      "metadata": {
        "id": "0k4fYnUqwdUV"
      },
      "source": [
        "data_train = pd.read_csv('satimage_train.csv', header = None)\n",
        "data_test = pd.read_csv('satimage_test.csv', header = None)\n",
        "\n",
        "data_train.columns = [\"all_data\"]\n",
        "data_test.columns = [\"all_data\"]\n",
        "\n",
        "data_train[['1','2', '3', '4', '5', '6', '7', '8', '9', '10', '11', '12', '13', '14', '15',\\\n",
        "           '16', '17', '18', '19', '20', '21', '22', '23', '24',  '25', '26', '27', '28',\\\n",
        "           '29', '30', '31', '32', '33', '34', '35', '36', 'class']] = data_train.all_data.str.split(\" \",expand=True)\n",
        "data_train = data_train.drop(columns=['all_data'])\n",
        "\n",
        "\n",
        "data_test[['1','2', '3', '4', '5', '6', '7', '8', '9', '10', '11', '12', '13', '14', '15',\\\n",
        "           '16', '17', '18', '19', '20', '21', '22', '23', '24',  '25', '26', '27', '28',\\\n",
        "           '29', '30', '31', '32', '33', '34', '35', '36', 'class']] = data_test.all_data.str.split(\" \",expand=True)\n",
        "data_test = data_test.drop(columns=['all_data'])\n",
        "\n",
        "data_train['class_label'] = np.where(data_train['class'].astype('str').astype('int') != 4, 0, 1)\n",
        "data_test['class_label'] = np.where(data_test['class'].astype('str').astype('int') != 4, 0, 1)\n",
        "\n",
        "data_test = data_test.drop(columns=['class'])\n",
        "data_train = data_train.drop(columns=['class'])"
      ],
      "execution_count": null,
      "outputs": []
    },
    {
      "cell_type": "code",
      "metadata": {
        "id": "CgBprZFV0mnU"
      },
      "source": [
        "y_train = data_train['class_label']\n",
        "y_train = y_train.astype(int).values\n",
        "X_train = data_train.drop(columns=['class_label'])\n",
        "X_train = X_train.values\n",
        "X_train = X_train.astype(int)\n",
        "\n",
        "y_test = data_test['class_label']\n",
        "y_test = y_test.astype(int).values\n",
        "X_test = data_test.drop(columns=['class_label'])\n",
        "X_test = X_test.values\n",
        "X_test = X_test.astype(int)"
      ],
      "execution_count": null,
      "outputs": []
    }
  ]
}