{
 "cells": [
  {
   "cell_type": "code",
   "execution_count": 2,
   "metadata": {},
   "outputs": [],
   "source": [
    "import numpy as np\n",
    "import pandas as pd\n",
    "\n",
    "%matplotlib inline\n",
    "import matplotlib\n",
    "import matplotlib.pyplot as plt\n",
    "\n",
    "from sklearn.model_selection import cross_val_score, train_test_split\n",
    "from sklearn.linear_model import LogisticRegression\n",
    "from sklearn.metrics import accuracy_score\n",
    "\n",
    "from IPython import display\n",
    "\n",
    "from scipydirect import minimize # for DIvided RECTangles (DIRECT) method\n",
    "import time"
   ]
  },
  {
   "cell_type": "code",
   "execution_count": 3,
   "metadata": {},
   "outputs": [
    {
     "name": "stdout",
     "output_type": "stream",
     "text": [
      "(48842, 15)\n"
     ]
    }
   ],
   "source": [
    "data = pd.read_csv(\"adult.csv\")\n",
    "print(data.shape)"
   ]
  },
  {
   "cell_type": "code",
   "execution_count": 4,
   "metadata": {},
   "outputs": [
    {
     "name": "stdout",
     "output_type": "stream",
     "text": [
      "(34189, 14) (14653, 14) (34189,) (14653,)\n"
     ]
    }
   ],
   "source": [
    "labels = data[\"income\"]\n",
    "features = data.drop(columns=[\"income\"])\n",
    "X_train, X_test, y_train, y_test = train_test_split(features, labels, test_size=0.3, random_state=1)\n",
    "print(X_train.shape, X_test.shape, y_train.shape, y_test.shape)"
   ]
  },
  {
   "cell_type": "code",
   "execution_count": 5,
   "metadata": {},
   "outputs": [],
   "source": [
    "# X_train.to_csv('./splits/X_train_adult.csv')\n",
    "# X_test.to_csv('./splits/X_test_adult.csv')\n",
    "# y_train.to_csv('./splits/y_train_adult.csv')\n",
    "# y_test.to_csv('./splits/y_test_adult.csv')"
   ]
  },
  {
   "cell_type": "markdown",
   "metadata": {},
   "source": [
    "## 1. Load and preprocess the datasets\n",
    "* In the article it was wentioned, that all categorical features were encoded using one-hot scheme, whereas all numeric attributes were normalized by dividing with their mean value."
   ]
  },
  {
   "cell_type": "code",
   "execution_count": 6,
   "metadata": {},
   "outputs": [],
   "source": [
    "def encode_and_bind(original_dataframe, feature_to_encode):\n",
    "    \"\"\"\n",
    "    To obtain dummy features from original feature `feature_to_encode`,\n",
    "    add them to original dataframe `original_dataframe`,\n",
    "    and drop original feature from it.\n",
    "    \"\"\"\n",
    "    dummies = pd.get_dummies(original_dataframe[[feature_to_encode]], drop_first=True)\n",
    "    res = pd.concat([original_dataframe, dummies], axis=1)\n",
    "    res = res.drop([feature_to_encode], axis=1)\n",
    "    return(res) "
   ]
  },
  {
   "cell_type": "markdown",
   "metadata": {},
   "source": [
    "## 1.1 Adult dataset\n",
    "`data_adult` - [Adult income dataset](https://www.kaggle.com/wenruliu/adult-income-dataset?select=adult.csv) comprises 48842 samples with 14 features and a label `income` with two possible values `<=50K` and `>50K`. In the article the `gender` was considered as *sensitive feature*.\n",
    "\n",
    "Let's make the following preprocessing steps:\n",
    "1. Replace values in `income`: `>50K` -> `1` and `<=50K` -> `0`. \n",
    "2. Replace values in `gender`: `Female` -> `1` and `Male` -> `0`.\n",
    "3. Divide the following numerical features with their mean values: `age`, `fnlwgt`, `educational-num`, `capital-gain`, `capital-loss`, `hours-per-week`\n",
    "4. Encode the following categorical features with one-hot scheme: `workclass`, `education`, `marital-status`, `occupation`, `relationship`, `race`, `native-country`\n",
    "\n",
    "After preprocessing we will perform five 70:30 random splits to obtain training and test data, as it was described in the article. Each split corrresponds to one experiment."
   ]
  },
  {
   "cell_type": "code",
   "execution_count": 7,
   "metadata": {},
   "outputs": [],
   "source": [
    "train = pd.concat([X_train, y_train], axis=1)\n",
    "test = pd.concat([X_test, y_test], axis=1)\n",
    "train_test = pd.concat([train, test])"
   ]
  },
  {
   "cell_type": "code",
   "execution_count": 13,
   "metadata": {},
   "outputs": [],
   "source": [
    "data_adult = train_test\n",
    "\n",
    "# Replace values in 'income'\n",
    "data_adult.loc[data_adult['income'] == '<=50K', 'income'] = 1\n",
    "data_adult.loc[data_adult['income'] == '>50K', 'income'] = 0\n",
    "\n",
    "# Replace values in 'gender'\n",
    "data_adult.loc[data_adult['gender'] == 'Female', 'gender'] = 1\n",
    "data_adult.loc[data_adult['gender'] == 'Male', 'gender'] = 0\n",
    "\n",
    "# Normalize all numerical features by dividing with mean value\n",
    "num_features_adult = [\"age\", \"fnlwgt\", \"educational-num\", \n",
    "                      \"capital-gain\", \"capital-loss\", \"hours-per-week\"]\n",
    "for feature in num_features_adult:\n",
    "    mean = data_adult[feature].mean()\n",
    "    data_adult[feature] = data_adult[feature] / mean\n",
    "\n",
    "# Make dummy features for all categorical features\n",
    "cat_features_adult = [\"workclass\", \"education\", \"marital-status\", \"race\",\n",
    "                      \"occupation\", \"relationship\", \"native-country\"]\n",
    "for feature in cat_features_adult:\n",
    "    data_adult = encode_and_bind(data_adult, feature)"
   ]
  },
  {
   "cell_type": "code",
   "execution_count": 14,
   "metadata": {},
   "outputs": [
    {
     "data": {
      "text/plain": [
       "(48842, 101)"
      ]
     },
     "execution_count": 14,
     "metadata": {},
     "output_type": "execute_result"
    }
   ],
   "source": [
    "data_adult.shape"
   ]
  },
  {
   "cell_type": "markdown",
   "metadata": {},
   "source": [
    "# 2. Adaptive Sensitive Reweightening (ASR) + CULEP model"
   ]
  },
  {
   "cell_type": "markdown",
   "metadata": {},
   "source": [
    "## 2.1 Adaptive Sensitive Reweightening (`ReweightedClassifier`) "
   ]
  },
  {
   "cell_type": "code",
   "execution_count": 15,
   "metadata": {},
   "outputs": [],
   "source": [
    "class ReweightedClassifier:\n",
    "    def __init__(self, baze_clf, alpha, beta, params = {}):\n",
    "        \"\"\"\n",
    "        Input: \n",
    "        baze_clf   - object from sklearn with methods .fit(sample_weight=), .predict(), .predict_proba()\n",
    "        alpha      - list of alphas for sensitive and non-sensitive objects [alpha, alpha']\n",
    "        beta       - list of betss for sensitive and non-sensitive objects [beta, beta']\n",
    "        params     - **kwargs compatible with baze_clf\n",
    "        \n",
    "        \"\"\"\n",
    "        self.baze_clf = baze_clf \n",
    "        self.model = None\n",
    "        self.alpha = np.array(alpha)\n",
    "        self.alphas = None\n",
    "        self.beta = np.array(beta)\n",
    "        self.betas = None\n",
    "        self.weights = None\n",
    "        self.prev_weights = None\n",
    "        self.params = params\n",
    "    \n",
    "    def reweight_dataset(self, length, error, minority_idx):\n",
    "        \"\"\"\n",
    "        This function recalculates values of weights and saves their previous values\n",
    "        \"\"\"\n",
    "        if self.alphas is None or self.betas is None:\n",
    "            # If alpha_0, alpha_1 or beta_0, beta_1 are not defined,\n",
    "            # then define alpha_0 and beta_0 to every object from non-sensitive class,\n",
    "            # and alpha_1 and beta_1 to every object from sensitive class (minority).\n",
    "            self.alphas = np.ones(length) * self.alpha[0]\n",
    "            self.betas = np.ones(length) * self.beta[0]\n",
    "            self.alphas[minority_idx] = self.alpha[1]\n",
    "            self.betas[minority_idx] = self.beta[1]\n",
    "        \n",
    "        # w_i_prev <- w_i for all i in dataset\n",
    "        self.prev_weights = self.weights.copy()\n",
    "        \n",
    "        # w_i = alpha_i * L_{beta_i} (P'(y_pred_i =! y_true_i)) \n",
    "        #       + (1 - alpha_i) * L_{beta_i} (-P'(y_pred_i =! y_true_i)),\n",
    "        # where \n",
    "        # L_{beta_i} (x) = exp(beta_i * x)\n",
    "        self.weights = self.alphas * np.exp(self.betas * error) \\\n",
    "                       + (1 - self.alphas) * np.exp(- self.betas * error)\n",
    "    \n",
    "    \n",
    "    def pRule(self, prediction, minority_idx):\n",
    "        \"\"\"\n",
    "        This function calculates \n",
    "                    | P(y_pred_i = 1 | i in S)       P(y_pred_i = 1 | i not in S) |\n",
    "        pRule = min { ---------------------------- , ---------------------------- }\n",
    "                    | P(y_pred_i = 1 | i not in S)   P(y_pred_i = 1 | i in S)     |\n",
    "        \n",
    "        S - the group of sensitive objects\n",
    "        ---------\n",
    "        Input:\n",
    "        prediction - labels ({0,1}) of a sample for which pRule is calculated\n",
    "        minority_idx - indexes of objects from a sensitive group\n",
    "        \"\"\"\n",
    "        # majority indexes = set of all indexes / set of minority indexes,\n",
    "        # where set of all indexes = all numbers from 0 to size of sample (=len(prediction))\n",
    "        majority_idx = set(np.linspace(0, len(prediction) - 1, len(prediction), dtype = int)).difference(minority_idx)\n",
    "        \n",
    "        # minority = P(y_pred_i = 1 | i in minority)\n",
    "        # majority = P(y_pred_i = 1 | i in majority)\n",
    "        minority = prediction[minority_idx].mean()\n",
    "        majority = prediction[list(majority_idx)].mean()\n",
    "        \n",
    "        minority = np.clip(minority, 1e-10, 1 - 1e-10)\n",
    "        majority = np.clip(majority, 1e-10, 1 - 1e-10)\n",
    "        \n",
    "        return min(minority/majority, majority/minority)\n",
    "\n",
    "        \n",
    "    \n",
    "    def fit(self, X_train, y_train, X_test, y_test, minority_idx, verbose=True, max_iter=30):\n",
    "        # Initialize equal weights w_i = 1\n",
    "        self.weights = np.ones(len(y_train))\n",
    "        self.prev_weights = np.zeros(len(y_train))\n",
    "        \n",
    "        # Lists for saving metrics\n",
    "        accuracys = []\n",
    "        pRules = []\n",
    "        differences = []\n",
    "        accuracy_plus_prule = []\n",
    "        \n",
    "        # Adaptive Sensitive Reweighting\n",
    "        iteration = 0\n",
    "        \n",
    "        while ((self.prev_weights - self.weights) ** 2).mean() > 10**(-6) and iteration < max_iter:\n",
    "            \n",
    "            iteration += 1\n",
    "            # Train classifier on X_train with weights (w_i / sum(w_i))\n",
    "            self.model = self.baze_clf(**self.params)\n",
    "            self.model.fit(X_train, y_train,\n",
    "                           sample_weight = self.weights / (self.weights.sum()))\n",
    "            \n",
    "            # Use classifier to obtain P`(y_pred_i =! y_pred) (here it is called 'error')\n",
    "            prediction_proba = self.model.predict_proba(X_train)[:, 1]\n",
    "            error = prediction_proba - y_train\n",
    "    \n",
    "            # Update weights\n",
    "            self.reweight_dataset(len(y_train), error, minority_idx)\n",
    "            \n",
    "            # Get metrics on X_train\n",
    "            prediction = self.model.predict(X_train)\n",
    "            accuracys.append(accuracy_score(prediction, y_train))\n",
    "            pRules.append(self.pRule(prediction, minority_idx))\n",
    "            accuracy_plus_prule.append(accuracys[-1] + pRules[-1])\n",
    "            differences.append(((self.prev_weights - self.weights)**2).mean()**0.5)\n",
    "            \n",
    "            # Visualize metrics if it's needed\n",
    "            if verbose:\n",
    "                display.clear_output(True)\n",
    "                fig, axes = plt.subplots(ncols=2, nrows=2, figsize=(16, 7))\n",
    "\n",
    "                metrics = [accuracys, pRules, accuracy_plus_prule, differences]\n",
    "                metrics_names = [\"Accuracy score\", \"pRule\", \"Accuracy + pRule\", \"Mean of weight edits\"]\n",
    "                for name, metric, ax in zip(metrics_names, metrics, axes.flat):\n",
    "                    ax.plot(metric, label='train')\n",
    "                    ax.set_title(f'{name}, iteration {iteration}')\n",
    "                    ax.legend()\n",
    "                    if name == \"Mean of weight edits\":\n",
    "                        ax.set_yscale('log')\n",
    "                plt.show()\n",
    "                \n",
    "        return accuracys, pRules, accuracy_plus_prule, differences\n",
    "        \n",
    "        \n",
    "    def predict(self, X):\n",
    "        return self.model.predict(X)\n",
    "    \n",
    "    \n",
    "    def predict_proba(self, X):\n",
    "        return self.model.predict_proba(X)\n",
    "    \n",
    "    def get_metrics_test(self, X_test, y_test, minority_idx_test):\n",
    "        \"\"\"\n",
    "        Obtain pRule and accuracy for trained model\n",
    "        \"\"\"\n",
    "        # Obtain predictions on X_test to calculate metrics\n",
    "        prediction_test = self.model.predict(X_test)\n",
    "\n",
    "        # Get metrics on test\n",
    "        accuracy_test = accuracy_score(prediction_test, y_test)\n",
    "        pRule_test = self.pRule(prediction_test, minority_idx_test)\n",
    "\n",
    "        return accuracy_test, pRule_test "
   ]
  },
  {
   "cell_type": "markdown",
   "metadata": {},
   "source": [
    "## 2.2. Optimizing CULEP parameter (`train_model`)\n",
    "\n",
    "In the article CULEP parameters are $\\alpha, \\alpha', \\beta, \\beta'$. They searched for the optimal hyperparameters in the space $\\left( \\alpha, \\alpha', \\beta, \\beta' \\right) \\in \\left[ 0, 1 \\right] ^2 \\times \\left[ 0, 3 \\right] ^2$ and used for it DIvided RECTangles (DIRECT) method. \n",
    "\n",
    "Each combination of parameters is evaluated with a full run of Adaptive Sensitive Reweightening algorithm on the training set. After optimization of the objective function (in case of Adult dataset it is `accuracy + pRule`), we get optimal hyperparameters $\\alpha, \\alpha', \\beta, \\beta'$. Then trained model (on the training set) with these hyperparameters make predictions on test set and the obtained metrics (accuracy and pRule) are reported.\n",
    "\n",
    "The optimization of objective function is time-consuming. For one split on train and test sets this process can take up to **2 hours** for Adult dataset. The whole process is repeated for 5 different random splits on train and test sets. \n",
    "\n",
    "To be able to keep track of the process each split will be started in its own cell (instead of a loop). Each split will correspont to one experiment.\n"
   ]
  },
  {
   "cell_type": "code",
   "execution_count": 16,
   "metadata": {},
   "outputs": [],
   "source": [
    "def prep_train_model(X_train, y_train, X_test, y_test, minority_idx):\n",
    "    \n",
    "    def train_model(a):\n",
    "        \"\"\"\n",
    "        Function of 4 variables (a[0], a[1], a[2], a[3]) that will be minimized by DIRECT method.\n",
    "        a[0], a[1] = alpha, alpha'\n",
    "        a[2], a[3] = beta, beta'\n",
    "        \"\"\"\n",
    "        model = ReweightedClassifier(LogisticRegression, [a[0], a[1]], [a[2], a[3]], params = {\"max_iter\": 4000, 'solver':'liblinear'})\n",
    "        _, _, accuracy_plus_prule, _ = model.fit(X_train, y_train, X_test, y_test, minority_idx)\n",
    "\n",
    "        # We'll maximize [acc + pRule] which we get at the last iteration of Adaptive Sensitive Reweighting\n",
    "        return - accuracy_plus_prule[-1]\n",
    "    \n",
    "    return train_model # return function for optimization"
   ]
  },
  {
   "cell_type": "markdown",
   "metadata": {},
   "source": [
    "# 3. Experiments\n",
    "\n",
    "In order to make all experiments independent from each other, all necessary variables will have name endings either `_1`, `_2`, `_3`, `_4` or `_5`."
   ]
  },
  {
   "cell_type": "markdown",
   "metadata": {},
   "source": [
    "## 3.1. Experiment 1"
   ]
  },
  {
   "cell_type": "markdown",
   "metadata": {},
   "source": [
    "1) Obtain a split for the experiment."
   ]
  },
  {
   "cell_type": "code",
   "execution_count": 19,
   "metadata": {},
   "outputs": [],
   "source": [
    "train_after_join = data_adult.values[:X_train.shape[0]] # X_train + y_train\n",
    "test_after_join = data_adult.values[X_train.shape[0]:] # X_test + y_test\n",
    "\n",
    "pd_train_after_join = pd.DataFrame(train_after_join, columns=data_adult.columns) # X_train + y_train\n",
    "pd_test_after_join = pd.DataFrame(test_after_join, columns=data_adult.columns) # X_test + y_test\n",
    "\n",
    "y_train_1 = pd_train_after_join[\"income\"]\n",
    "X_train_1 = pd_train_after_join.drop(columns=[\"income\"])\n",
    "\n",
    "y_test_1 = pd_test_after_join[\"income\"]\n",
    "X_test_1 = pd_test_after_join.drop(columns=[\"income\"])\n",
    "\n",
    "# X_train_1.to_csv('./splits/X_train_preprocessed_adult.csv')\n",
    "# X_test_1.to_csv('./splits/X_test_preprocessed_adult.csv')\n",
    "# y_train_1.to_csv('./splits/y_train_preprocessed_adult.csv')\n",
    "# y_test_1.to_csv('./splits/y_test_preprocessed_adult.csv')\n",
    "\n",
    "\n",
    "y_train_1 = y_train_1.astype(int).values\n",
    "y_test_1 = y_test_1.astype(int).values\n",
    "\n",
    "# Obtain indexes of sensitive class\n",
    "minority_idx_1 = X_train_1.reset_index(drop=True).index.values[X_train_1[\"gender\"] == 1]\n",
    "minority_idx_test_1 = X_test_1.reset_index(drop=True).index.values[X_test_1[\"gender\"] == 1]"
   ]
  },
  {
   "cell_type": "markdown",
   "metadata": {},
   "source": [
    "2) Perform ASR+CULEP."
   ]
  },
  {
   "cell_type": "code",
   "execution_count": 24,
   "metadata": {},
   "outputs": [
    {
     "data": {
      "image/png": "[encoded data removed]",
      "text/plain": [
       "<Figure size 1152x504 with 4 Axes>"
      ]
     },
     "metadata": {
      "needs_background": "light"
     },
     "output_type": "display_data"
    },
    {
     "name": "stdout",
     "output_type": "stream",
     "text": [
      "Elapsed time: 7395.5169360637665 s\n",
      "Elapsed time: 123.0 min 15.51693606376648 s\n",
      "       x: array([0.11728395, 0.98148148, 1.4382716 , 2.99382716])\n",
      "     fun: -1.7849677888177793\n",
      "  status: 1\n",
      " success: True\n",
      " message: 'Number of function evaluations done is larger then maxf'\n"
     ]
    }
   ],
   "source": [
    "objective_1 = prep_train_model(X_train_1, y_train_1, X_test_1, y_test_1, minority_idx_1)\n",
    "\n",
    "start = time.time()\n",
    "my_res_1 = minimize(objective_1, bounds=[[0.0, 1.0], [0.0, 1.0], [0.0, 3.0], [0.0, 3.0]], maxT=160, maxf=320)\n",
    "stop = time.time()\n",
    "\n",
    "print(f\"Elapsed time: {stop - start} s\")\n",
    "print(f\"Elapsed time: {(stop - start) // 60} min {(stop - start) % 60} s\")\n",
    "print(my_res_1)"
   ]
  },
  {
   "cell_type": "markdown",
   "metadata": {},
   "source": [
    "3) Get necessary metrics on test set (for Adult dataset the metrics are accuracy and pRule)."
   ]
  },
  {
   "cell_type": "code",
   "execution_count": 33,
   "metadata": {},
   "outputs": [
    {
     "name": "stdout",
     "output_type": "stream",
     "text": [
      "ASR+CULEP for X_test\n",
      "prule = 0.981073, accuracy = 0.800587\n",
      "prule + accuracy = 1.78166\n"
     ]
    }
   ],
   "source": [
    "# Create model with obtained hyperparameters alpha, alpha', beta, beta'\n",
    "a_1 = [0.11728395, 0.98148148, 1.4382716,  2.99382716] #my_res_1.x\n",
    "model_1 = ReweightedClassifier(LogisticRegression, [a_1[0], a_1[1]], [a_1[2], a_1[3]], params = {\"max_iter\": 4000, 'solver':'liblinear'})\n",
    "\n",
    "# Train model on X_train \n",
    "model_1.fit(X_train_1, y_train_1, X_test_1, y_test_1, minority_idx_1, verbose=False)\n",
    "\n",
    "# Calculate metrics (pRule, accuracy) on X_test\n",
    "accuracy_test_1, pRule_test_1 = model_1.get_metrics_test(X_test_1, y_test_1, minority_idx_test_1)\n",
    "\n",
    "print('ASR+CULEP for X_test')\n",
    "print(f\"prule = {pRule_test_1:.6}, accuracy = {accuracy_test_1:.6}\")\n",
    "print(f\"prule + accuracy = {(pRule_test_1 + accuracy_test_1):.6}\")"
   ]
  },
  {
   "cell_type": "code",
   "execution_count": 36,
   "metadata": {},
   "outputs": [
    {
     "data": {
      "text/plain": [
       "0.8005869105302669"
      ]
     },
     "execution_count": 36,
     "metadata": {},
     "output_type": "execute_result"
    }
   ],
   "source": [
    "y_pred_test = model_1.predict(X_test_1)\n",
    "accuracy_score(y_pred_test, y_test_1)"
   ]
  },
  {
   "cell_type": "code",
   "execution_count": 37,
   "metadata": {},
   "outputs": [],
   "source": [
    "pd.DataFrame(y_pred_test).to_csv('./predictions/y_pred_test_adult.csv')"
   ]
  },
  {
   "cell_type": "markdown",
   "metadata": {},
   "source": [
    "4) For the same split train simple Logistic Regression (without ASR+CULEP) on the train set. Then obtain necessary metrics on the test set."
   ]
  },
  {
   "cell_type": "code",
   "execution_count": 32,
   "metadata": {},
   "outputs": [
    {
     "name": "stdout",
     "output_type": "stream",
     "text": [
      "Without ASR+CULEP for X_test\n",
      "prule = 0.811292, accuracy = 0.854979\n",
      "prule + accuracy = 1.66627\n"
     ]
    }
   ],
   "source": [
    "# Fit LogisticRegression on X_train\n",
    "model_simple = LogisticRegression(max_iter=4000, solver='liblinear')\n",
    "model_simple.fit(X_train_1, y_train_1)\n",
    "\n",
    "# Get predictions for X_test\n",
    "prediction = model_simple.predict(X_test_1)\n",
    "\n",
    "# Obtain indexes for sensitive and non-sensitive groups\n",
    "majority_idx_test_1 = set(np.linspace(0, len(prediction) - 1, len(prediction), dtype = int)).difference(minority_idx_test_1)       \n",
    "minority = prediction[minority_idx_test_1].mean()\n",
    "majority = prediction[list(majority_idx_test_1)].mean()\n",
    "\n",
    "# Calculate metrics on X_test\n",
    "prule_simple = min(minority/majority, majority/minority)\n",
    "accuracy_simple = accuracy_score(prediction, y_test_1)\n",
    "\n",
    "print('Without ASR+CULEP for X_test')\n",
    "print(f\"prule = {prule_simple:.6}, accuracy = {accuracy_simple:.6}\")\n",
    "print(f\"prule + accuracy = {(prule_simple + accuracy_simple):.6}\")"
   ]
  }
 ],
 "metadata": {
  "kernelspec": {
   "display_name": "Python 3",
   "language": "python",
   "name": "python3"
  },
  "language_info": {
   "codemirror_mode": {
    "name": "ipython",
    "version": 3
   },
   "file_extension": ".py",
   "mimetype": "text/x-python",
   "name": "python",
   "nbconvert_exporter": "python",
   "pygments_lexer": "ipython3",
   "version": "3.8.3"
  }
 },
 "nbformat": 4,
 "nbformat_minor": 4
}
