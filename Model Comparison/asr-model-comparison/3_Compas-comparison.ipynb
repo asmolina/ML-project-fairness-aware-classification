{
 "cells": [
  {
   "cell_type": "code",
   "execution_count": 1,
   "metadata": {},
   "outputs": [],
   "source": [
    "import numpy as np\n",
    "import pandas as pd\n",
    "\n",
    "%matplotlib inline\n",
    "import matplotlib\n",
    "import matplotlib.pyplot as plt\n",
    "\n",
    "from sklearn.model_selection import cross_val_score, train_test_split\n",
    "from sklearn.linear_model import LogisticRegression\n",
    "from sklearn.metrics import accuracy_score\n",
    "\n",
    "from IPython import display\n",
    "\n",
    "from scipydirect import minimize # for DIvided RECTangles (DIRECT) method\n",
    "import time"
   ]
  },
  {
   "cell_type": "code",
   "execution_count": 2,
   "metadata": {},
   "outputs": [
    {
     "name": "stdout",
     "output_type": "stream",
     "text": [
      "(7214, 53)\n"
     ]
    }
   ],
   "source": [
    "data = pd.read_csv(\"compas-scores-two-years.csv\")\n",
    "print(data.shape)"
   ]
  },
  {
   "cell_type": "code",
   "execution_count": 3,
   "metadata": {},
   "outputs": [
    {
     "name": "stdout",
     "output_type": "stream",
     "text": [
      "(3607, 52) (3607, 52) (3607,) (3607,)\n"
     ]
    }
   ],
   "source": [
    "labels = data['two_year_recid']\n",
    "features = data.drop(columns=['two_year_recid'])\n",
    "X_train, X_test, y_train, y_test = train_test_split(features, labels, test_size=0.5, random_state=1)\n",
    "print(X_train.shape, X_test.shape, y_train.shape, y_test.shape)"
   ]
  },
  {
   "cell_type": "code",
   "execution_count": 4,
   "metadata": {},
   "outputs": [],
   "source": [
    "# X_train.to_csv('./splits/X_train_compas.csv')\n",
    "# X_test.to_csv('./splits/X_test_compas.csv')\n",
    "# y_train.to_csv('./splits/y_train_compas.csv')\n",
    "# y_test.to_csv('./splits/y_test_compas.csv')"
   ]
  },
  {
   "cell_type": "markdown",
   "metadata": {},
   "source": [
    "## 1. Load and preprocess the datasets\n",
    "* In the article it was wentioned, that all categorical features were encoded using one-hot scheme, whereas all numeric attributes were normalized by dividing with their mean value."
   ]
  },
  {
   "cell_type": "code",
   "execution_count": 4,
   "metadata": {},
   "outputs": [],
   "source": [
    "def encode_and_bind(original_dataframe, feature_to_encode):\n",
    "    \"\"\"\n",
    "    To obtain dummy features from original feature `feature_to_encode`,\n",
    "    add them to original dataframe `original_dataframe`,\n",
    "    and drop original feature from it.\n",
    "    \"\"\"\n",
    "    dummies = pd.get_dummies(original_dataframe[[feature_to_encode]], drop_first=True)\n",
    "    res = pd.concat([original_dataframe, dummies], axis=1)\n",
    "    res = res.drop([feature_to_encode], axis=1)\n",
    "    return(res) "
   ]
  },
  {
   "cell_type": "markdown",
   "metadata": {},
   "source": [
    "## 1.1 COMPAS dataset\n",
    "`data_compas` - [COMPAS dataset](https://github.com/propublica/compas-analysis) (compas-scores-two-years.csv) originally comprises 7214 samples with 52 features and a binary label `two_year_recid` with two possible values `0` and `1`. In the article it was mentioned that they used the dataset containing 6150 samples with 5 features (age category, gender, race, priors count and charge degree). The sensitive attribute here is `race`, and to make it binary they selected only Black and White individuals (and that's how 6150 samples were obtained).\n",
    "\n",
    "Let's make the following preprocessing steps:\n",
    "1. Select only five features `age_cat`, `gender`, `race`, `priors_count` and `c_charge_degree` and tagret label `two_year_recid`.\n",
    "2. Drop all samples with `'race' =! 'African-American'` and `'race' =! 'Caucasian'`. Then replace values of feature `race` by the rule `African-American` -> `1`, `Caucasian` -> `0`.\n",
    "\n",
    "\n",
    "After preprocessing we will perform five 50:50 random splits to obtain training and test data, as it was described in the article. Each split corrresponds to one experiment."
   ]
  },
  {
   "cell_type": "code",
   "execution_count": 5,
   "metadata": {},
   "outputs": [],
   "source": [
    "train = pd.concat([X_train, y_train], axis=1)\n",
    "test = pd.concat([X_test, y_test], axis=1)\n",
    "train_test = pd.concat([train, test])"
   ]
  },
  {
   "cell_type": "code",
   "execution_count": 6,
   "metadata": {},
   "outputs": [],
   "source": [
    "data_compas = train_test #pd.read_csv(\"compas-scores-two-years.csv\") \n",
    "\n",
    "# Select only five features and the tagret label\n",
    "data_compas = data_compas[['age_cat', 'sex', 'race', 'priors_count', 'c_charge_degree', 'two_year_recid']]\n",
    "\n",
    "# Drop all samples with 'race' =! 'African-American' and 'race' =! 'Caucasian' and \n",
    "data_compas = data_compas[(data_compas['race'] == 'African-American') | (data_compas['race'] == 'Caucasian')] \n",
    "\n",
    "# Replace values in 'race'\n",
    "data_compas.loc[data_compas['race'] == 'African-American', 'race'] = 1\n",
    "data_compas.loc[data_compas['race'] == 'Caucasian', 'race'] = 0\n",
    "\n",
    "# Normalize all numerical features by dividing with mean value\n",
    "num_features_compas = ['priors_count']\n",
    "for feature in num_features_compas:\n",
    "    mean = data_compas[feature].mean()\n",
    "    data_compas[feature] = data_compas[feature] / mean\n",
    "\n",
    "# Make dummy features for all categorical features\n",
    "cat_features_compas = ['age_cat', 'sex', 'c_charge_degree']\n",
    "for feature in cat_features_compas:\n",
    "    data_compas = encode_and_bind(data_compas, feature)    "
   ]
  },
  {
   "cell_type": "markdown",
   "metadata": {},
   "source": [
    "# 2. Adaptive Sensitive Reweightening (ASR) + CULEP model"
   ]
  },
  {
   "cell_type": "markdown",
   "metadata": {},
   "source": [
    "## 2.1 Adaptive Sensitive Reweightening (`ReweightedClassifier`) "
   ]
  },
  {
   "cell_type": "code",
   "execution_count": 7,
   "metadata": {},
   "outputs": [],
   "source": [
    "class ReweightedClassifier:\n",
    "    def __init__(self, baze_clf, alpha, beta, params = {}):\n",
    "        \"\"\"\n",
    "        Input: \n",
    "        baze_clf   - object from sklearn with methods .fit(sample_weight=), .predict(), .predict_proba()\n",
    "        alpha      - list of alphas for sensitive and non-sensitive objects [alpha, alpha']\n",
    "        beta       - list of betss for sensitive and non-sensitive objects [beta, beta']\n",
    "        params     - **kwargs compatible with baze_clf\n",
    "        \n",
    "        \"\"\"\n",
    "        self.baze_clf = baze_clf \n",
    "        self.model = None\n",
    "        self.alpha = np.array(alpha)\n",
    "        self.alphas = None\n",
    "        self.beta = np.array(beta)\n",
    "        self.betas = None\n",
    "        self.weights = None\n",
    "        self.prev_weights = None\n",
    "        self.params = params\n",
    "    \n",
    "    def reweight_dataset(self, length, error, minority_idx):\n",
    "        \"\"\"\n",
    "        This function recalculates values of weights and saves their previous values\n",
    "        \"\"\"\n",
    "        if self.alphas is None or self.betas is None:\n",
    "            # If alpha_0, alpha_1 or beta_0, beta_1 are not defined,\n",
    "            # then define alpha_0 and beta_0 to every object from non-sensitive class,\n",
    "            # and alpha_1 and beta_1 to every object from sensitive class (minority).\n",
    "            self.alphas = np.ones(length) * self.alpha[0]\n",
    "            self.betas = np.ones(length) * self.beta[0]\n",
    "            self.alphas[minority_idx] = self.alpha[1]\n",
    "            self.betas[minority_idx] = self.beta[1]\n",
    "        \n",
    "        # w_i_prev <- w_i for all i in dataset\n",
    "        self.prev_weights = self.weights.copy()\n",
    "        \n",
    "        # w_i = alpha_i * L_{beta_i} (P'(y_pred_i =! y_true_i)) \n",
    "        #       + (1 - alpha_i) * L_{beta_i} (-P'(y_pred_i =! y_true_i)),\n",
    "        # where \n",
    "        # L_{beta_i} (x) = exp(beta_i * x)\n",
    "        self.weights = self.alphas * np.exp(self.betas * error) \\\n",
    "                       + (1 - self.alphas) * np.exp(- self.betas * error)\n",
    "    \n",
    "    \n",
    "    def Dfpr_Dfnr(self, y_true, prediction, minority_idx):\n",
    "        \"\"\"\n",
    "        This function calculates 3 values:\n",
    "        1) |D_FPR| + |D_FNR|\n",
    "        \n",
    "        2) D_FPR = P(y_pred_i =! y_true_i | y_true_i = 1, i in S) \n",
    "                   - P(y_pred_i =! y_true_i | y_true_i = 1, i not in S) \n",
    "        \n",
    "        3) D_FNR = P(y_pred_i =! y_true_i | y_true_i = 0, i in S) \n",
    "                   - P(y_pred_i =! y_true_i | y_true_i = 0, i not in S) \n",
    "        \n",
    "        S - the group of sensitive objects\n",
    "        ---------\n",
    "        Input:\n",
    "        y_true - true labels ({0,1}) of a sample for which pRule is calculated\n",
    "        prediction - labels ({0,1}) of a sample for which pRule is calculated\n",
    "        minority_idx - indexes of objects from a sensitive group\n",
    "        \"\"\"\n",
    "        # majority indexes = set of all indexes / set of minority indexes,\n",
    "        # where set of all indexes = all numbers from 0 to size of sample (=len(prediction))\n",
    "        majority_idx = set(np.linspace(0, len(prediction) - 1, len(prediction), dtype = int)).difference(minority_idx)\n",
    "    \n",
    "        # majority - array of predicted labels ({0,1}) for non-sensitive objects (majority)\n",
    "        # true_majotity - array of true labels  ({0,1}) for non-sensitive objects (majority)\n",
    "        majority = prediction[list(majority_idx)]\n",
    "        true_majority = y_true[list(majority_idx)] \n",
    "        \n",
    "        # minority - array of predicted labels ({0,1}) for sensitive objects (minority)\n",
    "        # true_minority - array of true labels  ({0,1}) for sensitive objects (minority)\n",
    "        minority = prediction[minority_idx]\n",
    "        true_minority = y_true[minority_idx]\n",
    "        \n",
    "        # We estimate P(event) as frequency of the event in the sample \n",
    "        D_fpr = (true_minority != minority)[true_minority == 1].mean() \\\n",
    "                - (true_majority != majority)[true_majority == 1].mean()\n",
    "        D_fnr = (true_minority != minority)[true_minority == 0].mean() \\\n",
    "                - (true_majority != majority)[true_majority == 0].mean()\n",
    "        \n",
    "        return D_fpr, D_fnr\n",
    "\n",
    "        \n",
    "    \n",
    "    def fit(self, X_train, y_train, X_test, y_test, minority_idx, verbose=True, max_iter=30):\n",
    "        # Initialize equal weights w_i = 1\n",
    "        self.weights = np.ones(len(y_train))\n",
    "        self.prev_weights = np.zeros(len(y_train))\n",
    "        \n",
    "        # Lists for saving metrics\n",
    "        accuracys = []\n",
    "        D_fprs = []\n",
    "        D_fnrs = []\n",
    "        differences = []\n",
    "        accuracy_dfpr_dfnr = []\n",
    "        \n",
    "        # Adaptive Sensitive Reweighting\n",
    "        iteration = 0\n",
    "        \n",
    "        while ((self.prev_weights - self.weights) ** 2).mean() > 10**(-6) and iteration < max_iter:\n",
    "            \n",
    "            iteration += 1\n",
    "            # Train classifier on X_train with weights (w_i / sum(w_i))\n",
    "            self.model = self.baze_clf(**self.params)\n",
    "            self.model.fit(X_train, y_train,\n",
    "                           sample_weight = self.weights / (self.weights.sum()))\n",
    "            \n",
    "            # Use classifier to obtain P`(y_pred_i =! y_pred) (here it is called 'error')\n",
    "            prediction_proba = self.model.predict_proba(X_train)[:, 1]\n",
    "            error = prediction_proba - y_train\n",
    "            \n",
    "            # Update weights\n",
    "            self.reweight_dataset(len(y_train), error, minority_idx)\n",
    "            \n",
    "            # Get metrics on X_train\n",
    "            prediction = self.model.predict(X_train)\n",
    "            \n",
    "            accuracys.append(accuracy_score(prediction, y_train))\n",
    "            D_fpr, D_fnr = self.Dfpr_Dfnr(y_train, prediction, minority_idx)\n",
    "            D_fprs.append(D_fpr)\n",
    "            D_fnrs.append(D_fnr)\n",
    "            accuracy_dfpr_dfnr.append(2*accuracys[-1] - abs(D_fpr) - abs(D_fnr))\n",
    "            differences.append(((self.prev_weights - self.weights)**2).mean()**0.5)\n",
    "            \n",
    "            # Visualize metrics if it's needed\n",
    "            if verbose:\n",
    "                display.clear_output(True)\n",
    "                fig, axes = plt.subplots(ncols=3, nrows=2, figsize=(16, 7))\n",
    "\n",
    "                metrics = [accuracys, D_fprs, D_fnrs, accuracy_dfpr_dfnr,  differences]\n",
    "                metrics_names = [\"Accuracy score\", \"D_fpr\", \"D_fnr\", \n",
    "                                 \"2acc - |D_fpr| - |D_fnr|\", \"Mean of weight edits\"]\n",
    "                for name, metric, ax in zip(metrics_names, metrics, axes.flat):\n",
    "                    ax.plot(metric, label='train')\n",
    "                    ax.set_title(f'{name}, iteration {iteration}')\n",
    "                    ax.legend()\n",
    "                    if name == \"Mean of weight edits\":\n",
    "                        ax.set_yscale('log')\n",
    "                plt.show()\n",
    "                \n",
    "        return accuracys, D_fprs, D_fnrs, accuracy_dfpr_dfnr, differences\n",
    "        \n",
    "        \n",
    "    def predict(self, X):\n",
    "        return self.model.predict(X)\n",
    "    \n",
    "    \n",
    "    def predict_proba(self, X):\n",
    "        return self.model.predict_proba(X)\n",
    "    \n",
    "    def get_metrics_test(self, X_test, y_test, minority_idx_test):\n",
    "        \"\"\"\n",
    "        Obtain pRule and accuracy for trained model\n",
    "        \"\"\"\n",
    "        # Obtain predictions on X_test to calculate metrics\n",
    "        prediction_test = self.model.predict(X_test)\n",
    "\n",
    "        # Get metrics on test\n",
    "        accuracy_test = accuracy_score(prediction_test, y_test)\n",
    "        D_fpr_test, D_fnr_test = self.Dfpr_Dfnr(y_test, prediction_test, minority_idx_test)\n",
    "\n",
    "        return accuracy_test, D_fpr_test, D_fnr_test "
   ]
  },
  {
   "cell_type": "markdown",
   "metadata": {},
   "source": [
    "## 2.2. Optimizing CULEP parameter (`train_model`)\n",
    "\n",
    "In the article CULEP parameters are $\\alpha, \\alpha', \\beta, \\beta'$. They searched for the optimal hyperparameters in the space $\\left( \\alpha, \\alpha', \\beta, \\beta' \\right) \\in \\left[ 0, 1 \\right] ^2 \\times \\left[ 0, 3 \\right] ^2$ and used for it DIvided RECTangles (DIRECT) method. \n",
    "\n",
    "Each combination of parameters is evaluated with a full run of Adaptive Sensitive Reweightening algorithm on the training set. After optimization of the objective function (in case of COMPAS dataset it is `2*acc - |DFPR| - |DFNR|`), we get optimal hyperparameters $\\alpha, \\alpha', \\beta, \\beta'$. Then trained model (on the training set) with these hyperparameters make predictions on test set and the obtained metrics (accuracy, DFPR, DFNR) are reported.\n",
    "\n",
    "The optimization of objective function is highly time-consuming. For COMPAS dataset one experiment can take around **30 minutes**. The whole process will be repeated for 5 different random splits on train and test sets. \n",
    "\n",
    "To be able to keep track of the process each split will be started in its own cell (instead of a loop). Each split will correspont to one experiment."
   ]
  },
  {
   "cell_type": "code",
   "execution_count": 8,
   "metadata": {},
   "outputs": [],
   "source": [
    "def prep_train_model(X_train, y_train, X_test, y_test, minority_idx):\n",
    "    \n",
    "    def train_model(a):\n",
    "        \"\"\"\n",
    "        Function of 4 variables (a[0], a[1], a[2], a[3]) that will be minimized by DIRECT method.\n",
    "        a[0], a[1] = alpha, alpha'\n",
    "        a[2], a[3] = beta, beta'\n",
    "        \"\"\"\n",
    "        model = ReweightedClassifier(LogisticRegression, [a[0], a[1]], [a[2], a[3]], params = {\"max_iter\": 4000, 'solver':'liblinear'})\n",
    "        _, _, _, accuracy_dfpr_dfnr, _ = model.fit(X_train, y_train, X_test, y_test, minority_idx)\n",
    "\n",
    "        # We'll maximize [2acc - |Dfnr| - |Dfpr|] which we get at the last iteration of Adaptive Sensitive Reweighting\n",
    "        return - accuracy_dfpr_dfnr[-1]\n",
    "    \n",
    "    return train_model # return function for optimization"
   ]
  },
  {
   "cell_type": "markdown",
   "metadata": {},
   "source": [
    "# 3. Experiments\n",
    "\n",
    "In order to make all experiments independent from each other, all necessary variables will have name endings either `_1`, `_2`, `_3`, `_4` or `_5`."
   ]
  },
  {
   "cell_type": "markdown",
   "metadata": {},
   "source": [
    "## 3.1. Experiment 1"
   ]
  },
  {
   "cell_type": "markdown",
   "metadata": {},
   "source": [
    "1) Obtain a split for the experiment."
   ]
  },
  {
   "cell_type": "code",
   "execution_count": 10,
   "metadata": {},
   "outputs": [],
   "source": [
    "train_after_join = data_compas.values[:X_train.shape[0]] # X_train + y_train\n",
    "test_after_join = data_compas.values[X_train.shape[0]:] # X_test + y_test\n",
    "\n",
    "pd_train_after_join = pd.DataFrame(train_after_join, columns=data_compas.columns) # X_train + y_train\n",
    "pd_test_after_join = pd.DataFrame(test_after_join, columns=data_compas.columns) # X_test + y_test\n",
    "\n",
    "y_train_1 = pd_train_after_join['two_year_recid']\n",
    "X_train_1 = pd_train_after_join.drop(columns=['two_year_recid'])\n",
    "\n",
    "y_test_1 = pd_test_after_join['two_year_recid']\n",
    "X_test_1 = pd_test_after_join.drop(columns=['two_year_recid'])\n",
    "\n",
    "\n",
    "X_train_1.to_csv('./splits/X_train_preprocessed_compas.csv')\n",
    "X_test_1.to_csv('./splits/X_test_preprocessed_compas.csv')\n",
    "y_train_1.to_csv('./splits/y_train_preprocessed_compas.csv')\n",
    "y_test_1.to_csv('./splits/y_test_preprocessed_compas.csv')\n",
    "\n",
    "\n",
    "y_train_1 = y_train_1.astype(int).values\n",
    "y_test_1 = y_test_1.astype(int).values\n",
    "\n",
    "# Obtain indexes of sensitive class\n",
    "minority_idx_1 = X_train_1.reset_index(drop=True).index.values[X_train_1[\"race\"] == 1]\n",
    "minority_idx_test_1 = X_test_1.reset_index(drop=True).index.values[X_test_1[\"race\"] == 1]"
   ]
  },
  {
   "cell_type": "markdown",
   "metadata": {},
   "source": [
    "2) Perform ASR+CULEP."
   ]
  },
  {
   "cell_type": "code",
   "execution_count": null,
   "metadata": {},
   "outputs": [
    {
     "data": {
      "image/png": "[encoded data removed]",
      "text/plain": [
       "<Figure size 1152x504 with 6 Axes>"
      ]
     },
     "metadata": {
      "needs_background": "light"
     },
     "output_type": "display_data"
    }
   ],
   "source": [
    "objective_1 = prep_train_model(X_train_1, y_train_1, X_test_1, y_test_1, minority_idx_1)\n",
    "\n",
    "start = time.time()\n",
    "my_res_1 = minimize(objective_1, bounds=[[0.0, 1.0], [0.0, 1.0], [0.0, 3.0], [0.0, 3.0]], maxT=80, maxf=320)\n",
    "stop = time.time()\n",
    "\n",
    "print(f\"Elapsed time: {stop - start} s\")\n",
    "print(f\"Elapsed time: {(stop - start) // 60} min {(stop - start) % 60} s\")\n",
    "print(my_res_1)"
   ]
  },
  {
   "cell_type": "markdown",
   "metadata": {},
   "source": [
    "3) Get necessary metrics on test set (for COMPAS dataset the metrics are accuracy, DFPR, DFNR)."
   ]
  },
  {
   "cell_type": "code",
   "execution_count": 14,
   "metadata": {},
   "outputs": [
    {
     "name": "stdout",
     "output_type": "stream",
     "text": [
      "ASR+CULEP for X_test\n",
      "DFPR = -0.0352624, DFNR = 0.00700735, accuracy = 0.646874\n",
      "2acc  - |Dfnr| - |Dfpr| = 1.25148\n"
     ]
    }
   ],
   "source": [
    "# Create model with obtained hyperparameters alpha, alpha', beta, beta'\n",
    "a_1 = [0.16666667, 0.53703704, 0.5,       2.83333333]#my_res_1.x\n",
    "model_1 = ReweightedClassifier(LogisticRegression, [a_1[0], a_1[1]], [a_1[2], a_1[3]], params = {'solver':'liblinear'})\n",
    "\n",
    "# Train model on X_train \n",
    "model_1.fit(X_train_1, y_train_1, X_test_1, y_test_1, minority_idx_1, verbose=False)\n",
    "\n",
    "# Calculate metrics (pRule, accuracy) on X_test\n",
    "accuracy_test_1, D_fpr_test_1, D_fnr_test_1 = model_1.get_metrics_test(X_test_1, y_test_1, minority_idx_test_1)\n",
    "\n",
    "print('ASR+CULEP for X_test')\n",
    "print(f\"DFPR = {D_fpr_test_1:.6}, DFNR = {D_fnr_test_1:.6}, accuracy = {accuracy_test_1:.6}\")\n",
    "print(f\"2acc  - |Dfnr| - |Dfpr| = {(2*accuracy_test_1 - abs(D_fpr_test_1) - abs(D_fnr_test_1)):.6}\")"
   ]
  },
  {
   "cell_type": "code",
   "execution_count": 16,
   "metadata": {},
   "outputs": [
    {
     "data": {
      "text/plain": [
       "0.6468737711364531"
      ]
     },
     "execution_count": 16,
     "metadata": {},
     "output_type": "execute_result"
    }
   ],
   "source": [
    "y_pred_test = model_1.predict(X_test_1)\n",
    "accuracy_score(y_pred_test, y_test_1)"
   ]
  },
  {
   "cell_type": "code",
   "execution_count": 17,
   "metadata": {},
   "outputs": [],
   "source": [
    "pd.DataFrame(y_pred_test).to_csv('./predictions/y_pred_test_compas.csv')"
   ]
  },
  {
   "cell_type": "markdown",
   "metadata": {},
   "source": [
    "4) For the same split train simple Logistic Regression (without ASR+CULEP) on the train set. Then obtain necessary metrics on the test set."
   ]
  },
  {
   "cell_type": "code",
   "execution_count": 15,
   "metadata": {},
   "outputs": [
    {
     "name": "stdout",
     "output_type": "stream",
     "text": [
      "Without ASR+CULEP for X_test\n",
      "DFPR = -0.30304, DFNR = 0.215262, accuracy = 0.667322\n",
      "2acc  - |Dfnr| - |Dfpr| = 0.816343\n"
     ]
    }
   ],
   "source": [
    "# Fit LogisticRegression on X_train\n",
    "model_simple = LogisticRegression(max_iter=4000, solver='liblinear')\n",
    "model_simple.fit(X_train_1, y_train_1)\n",
    "\n",
    "# Get predictions for X_test\n",
    "prediction = model_simple.predict(X_test_1)\n",
    "\n",
    "# Obtain indexes for sensitive and non-sensitive groups\n",
    "majority_idx_test_1 = set(np.linspace(0, len(prediction) - 1, len(prediction), dtype = int)).difference(minority_idx_test_1)       \n",
    "minority = prediction[minority_idx_test_1]\n",
    "majority = prediction[list(majority_idx_test_1)]\n",
    "\n",
    "true_minority = y_test_1[minority_idx_test_1]\n",
    "true_majority = y_test_1[list(majority_idx_test_1)] \n",
    "\n",
    "# Calculate metrics on X_test\n",
    "accuracy_simple = accuracy_score(prediction, y_test_1)\n",
    "D_fpr_simple = (true_minority != minority)[true_minority == 1].mean() \\\n",
    "             - (true_majority != majority)[true_majority == 1].mean()\n",
    "D_fnr_simple = (true_minority != minority)[true_minority == 0].mean() \\\n",
    "             - (true_majority != majority)[true_majority == 0].mean()\n",
    "\n",
    "\n",
    "print('Without ASR+CULEP for X_test')\n",
    "print(f\"DFPR = {D_fpr_simple:.6}, DFNR = {D_fnr_simple:.6}, accuracy = {accuracy_simple:.6}\")\n",
    "print(f\"2acc  - |Dfnr| - |Dfpr| = {(2*accuracy_simple - abs(D_fpr_simple) - abs(D_fnr_simple)):.6}\")"
   ]
  },
  {
   "cell_type": "code",
   "execution_count": null,
   "metadata": {},
   "outputs": [],
   "source": []
  }
 ],
 "metadata": {
  "kernelspec": {
   "display_name": "Python 3",
   "language": "python",
   "name": "python3"
  },
  "language_info": {
   "codemirror_mode": {
    "name": "ipython",
    "version": 3
   },
   "file_extension": ".py",
   "mimetype": "text/x-python",
   "name": "python",
   "nbconvert_exporter": "python",
   "pygments_lexer": "ipython3",
   "version": "3.8.3"
  }
 },
 "nbformat": 4,
 "nbformat_minor": 4
}
