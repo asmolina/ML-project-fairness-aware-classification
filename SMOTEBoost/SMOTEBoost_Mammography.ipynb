{
  "nbformat": 4,
  "nbformat_minor": 0,
  "metadata": {
    "colab": {
      "name": "SMOTEBoost_Mammography.ipynb",
      "provenance": [],
      "authorship_tag": "ABX9TyOAjS3Xw5YO+khsVWic8MSY",
      "include_colab_link": true
    },
    "kernelspec": {
      "name": "python3",
      "display_name": "Python 3"
    },
    "language_info": {
      "name": "python"
    }
  },
  "cells": [
    {
      "cell_type": "markdown",
      "metadata": {
        "id": "view-in-github",
        "colab_type": "text"
      },
      "source": [
        "<a href=\"https://colab.research.google.com/github/lenoken/ML-project-fairness-aware-classification/blob/main/SMOTEBoost_Mammography.ipynb\" target=\"_parent\"><img src=\"https://colab.research.google.com/assets/colab-badge.svg\" alt=\"Open In Colab\"/></a>"
      ]
    },
    {
      "cell_type": "code",
      "metadata": {
        "id": "7xkgBHHz39sv"
      },
      "source": [
        "import numpy as np\n",
        "import pandas as pd\n",
        "%matplotlib inline\n",
        "import matplotlib.pyplot as plt\n",
        "from sklearn.ensemble import AdaBoostClassifier\n",
        "from sklearn.model_selection import train_test_split\n",
        "from sklearn.metrics import precision_score\n",
        "from sklearn.metrics import recall_score\n",
        "from sklearn.neighbors import NearestNeighbors\n",
        "from sklearn.tree import DecisionTreeClassifier\n",
        "from sklearn.metrics import f1_score\n",
        "from sklearn.preprocessing import normalize\n",
        "from collections import Counter"
      ],
      "execution_count": 3,
      "outputs": []
    },
    {
      "cell_type": "markdown",
      "metadata": {
        "id": "0xOhIrcyyDdR"
      },
      "source": [
        "## Mammography dataset"
      ]
    },
    {
      "cell_type": "markdown",
      "metadata": {
        "id": "Y-bqWBOoyH7D"
      },
      "source": [
        "There are 10923 examples of majority class and 260 examples of minority class with 6 features."
      ]
    },
    {
      "cell_type": "code",
      "metadata": {
        "id": "0k4fYnUqwdUV"
      },
      "source": [
        "# 0 - majority label, 1 - minoruty label\n",
        "df = pd.read_csv(\"mammography.csv\")\n",
        "\n",
        "y = df['class']\n",
        "y = y.where(y == \"'1'\", 0)\n",
        "y = y.where(y == 0, 1).values\n",
        "y = y.astype('int')\n",
        "\n",
        "X = df.drop(columns=['class'])\n",
        "X = X.values\n",
        "\n",
        "X_train, X_test, y_train, y_test = train_test_split(X, y,\n",
        "                                                    test_size=.2,\n",
        "                                                    random_state=42)"
      ],
      "execution_count": 4,
      "outputs": []
    },
    {
      "cell_type": "markdown",
      "metadata": {
        "id": "9Ko80g8Z4OXd"
      },
      "source": [
        "##Class SMOTEBoost"
      ]
    },
    {
      "cell_type": "code",
      "metadata": {
        "id": "Ee6iNO8KAFTi"
      },
      "source": [
        "# y - true label\n",
        "def ada_boost_eps(y, y_pred_t, distribution):\n",
        "  eps = np.sum((1 - (y == y_pred_t) + (np.logical_not(y) == y_pred_t)) * distribution)\n",
        "  return eps\n",
        "\n",
        "def ada_boost_betta(eps):\n",
        "  betta = eps/(1 - eps)\n",
        "  return betta\n",
        "\n",
        "def ada_boost_w(y, y_pred_t):\n",
        "  w = 0.5 * (1 + (y == y_pred_t) - (np.logical_not(y) == y_pred_t))\n",
        "  return w\n",
        "\n",
        "def ada_boost_distribution(distribution, betta, w):\n",
        "  distribution = distribution * betta ** w  / np.sum(distribution)\n",
        "  return distribution\n",
        "\n",
        "def min_target(y):\n",
        "  minority_target = min(Counter(y), key=Counter(y).get)\n",
        "  return minority_target"
      ],
      "execution_count": 5,
      "outputs": []
    },
    {
      "cell_type": "code",
      "metadata": {
        "id": "q4xEAxWv4QvT"
      },
      "source": [
        "class SMOTEBoost():\n",
        "    \n",
        "    def __init__(self,\n",
        "                 n_samples = 100,\n",
        "                 k_neighbors = 5,  \n",
        "                 n_estimators = 50, #n_estimators = T\n",
        "                 base_classifier = None,\n",
        "                 random_state = 42,\n",
        "                 get_eps = ada_boost_eps,\n",
        "                 get_betta = ada_boost_betta,\n",
        "                 get_w = ada_boost_w,\n",
        "                 update_distribution=ada_boost_distribution):\n",
        "        self.n_samples = n_samples\n",
        "        self.k_neighbors = k_neighbors\n",
        "        self.n_estimators = n_estimators\n",
        "        self.base_classifier = base_classifier\n",
        "        self.random_state = random_state\n",
        "        self.get_eps = get_eps\n",
        "        self.get_betta = get_betta\n",
        "        self.get_w = get_w\n",
        "        self.update_distribution = update_distribution\n",
        "        \n",
        "    def fit(self, X, y):\n",
        "        \n",
        "        distribution = np.ones(X.shape[0], dtype=float) / X.shape[0]\n",
        "        self.classifiers = []\n",
        "        self.betta = []\n",
        "\n",
        "        for i in range(self.n_estimators):\n",
        "\n",
        "            minority_class = min_target(y)\n",
        "            X_min = X[np.where(y == minority_class)]\n",
        "\n",
        "            # create a new classifier\n",
        "            self.classifiers.append(self.base_classifier())\n",
        "\n",
        "            # SMOTE\n",
        "            self.smote = SMOTE(n_samples=self.n_samples,\n",
        "                               k_neighbors=self.k_neighbors,\n",
        "                               random_state=self.random_state)\n",
        "            self.smote.fit(X_min)\n",
        "            X_syn = self.smote.sample()\n",
        "            y_syn = np.full(X_syn.shape[0], fill_value=minority_class, dtype=np.int64)\n",
        "\n",
        "            # Modify distribution\n",
        "            distribution_syn = np.empty(X_syn.shape[0], dtype=np.float64)\n",
        "            distribution_syn[:] = 1. / X.shape[0]\n",
        "            mod_distribution = np.append(distribution, distribution_syn).reshape(1, -1)\n",
        "            mod_distribution = np.squeeze(normalize(mod_distribution, axis=1, norm='l1'))\n",
        "            # Concatenate original and synthetic datasets for training a weak learner\n",
        "            mod_X = np.vstack((X, X_syn))\n",
        "            mod_y = np.append(y, y_syn) \n",
        "\n",
        "            # Train a weak lerner\n",
        "            self.classifiers[-1].fit(mod_X, mod_y, sample_weight=mod_distribution)\n",
        "\n",
        "            # Make a prediction for the original dataset\n",
        "            y_pred_t = self.classifiers[-1].predict(X)\n",
        "            \n",
        "            # Compute the pseudo-loss of hypothesis\n",
        "            eps_t = ada_boost_eps(y, y_pred_t, distribution)\n",
        "            betta_t = ada_boost_betta(eps_t)\n",
        "            w_t = ada_boost_w(y, y_pred_t)\n",
        "            self.betta.append(betta_t)\n",
        "            \n",
        "            # Update distribution and normalize\n",
        "            #print(f'dist_initial = {distribution}, shape = {distribution.shape}')\n",
        "            distribution = ada_boost_distribution(distribution, betta_t, w_t)\n",
        "            #print(f'eps = {eps_t}')\n",
        "            #print(f'betta = {betta_t}')\n",
        "            #print(f'w_t = {w_t}')\n",
        "            #print(f'dist = {distribution}')\n",
        "          \n",
        "\n",
        "    \n",
        "    def predict(self, X):\n",
        "        N = len(X)\n",
        "        final_pred = np.zeros((N, 2))\n",
        "        #get the weighted votes of the classifiers\n",
        "        for betta, clf in zip(self.betta, self.classifiers):\n",
        "            yp = clf.predict(X)\n",
        "            final_pred[range(N), yp] += np.log(1/betta)\n",
        "        final_pred = np.argmax(final_pred,axis=1)\n",
        "        return final_pred"
      ],
      "execution_count": 6,
      "outputs": []
    },
    {
      "cell_type": "markdown",
      "metadata": {
        "id": "-odVVOU94Tc_"
      },
      "source": [
        "## Class Smote"
      ]
    },
    {
      "cell_type": "code",
      "metadata": {
        "id": "7-y9HZYV4Wkv"
      },
      "source": [
        "class SMOTE():\n",
        "\n",
        "    def __init__(self, n_samples, k_neighbors=5, random_state=None):\n",
        "        self.n_samples = n_samples\n",
        "        self.k = k_neighbors\n",
        "        self.random_state = random_state\n",
        "\n",
        "    def fit(self, X):\n",
        "        self.X = X\n",
        "        self.n_features = self.X.shape[1]\n",
        "        self.neigh = NearestNeighbors(n_neighbors=self.k) #k + 1\n",
        "        self.neigh.fit(self.X)\n",
        "        return self\n",
        "\n",
        "    def sample(self):\n",
        "        np.random.seed(seed=self.random_state)\n",
        "        S = np.zeros(shape=(self.n_samples, self.n_features))\n",
        "\n",
        "        for i in range(self.n_samples):\n",
        "            j = np.random.randint(0, self.X.shape[0])\n",
        "            nn = self.neigh.kneighbors(self.X[j].reshape(1, -1),\n",
        "                                       return_distance=False)[:, 1:]\n",
        "            nn_index = np.random.choice(nn[0])\n",
        "            dif = self.X[nn_index] - self.X[j]\n",
        "            gap = np.random.random() \n",
        "            S[i, :] = self.X[j, :] + gap * dif[:]\n",
        "        return S"
      ],
      "execution_count": 7,
      "outputs": []
    },
    {
      "cell_type": "markdown",
      "metadata": {
        "id": "1o4azBge4wNC"
      },
      "source": [
        "## Plot F-value"
      ]
    },
    {
      "cell_type": "markdown",
      "metadata": {
        "id": "YBN2BweG5O75"
      },
      "source": [
        "To begin with, we need to determine the optimal parameter SMOTE for our dataset."
      ]
    },
    {
      "cell_type": "code",
      "metadata": {
        "id": "DF6UotK-43GO"
      },
      "source": [
        "max_depth = 5\n",
        "n_samples = [100, 200, 300, 500] # SMOTE parameter\n",
        "k_neighbors = 5\n",
        "n_estimators = 25 # T\n",
        "random_state = 42\n",
        "\n",
        "f1 = [0]*4\n",
        "recall = [0]*4\n",
        "precision = [0]*4\n",
        "\n",
        "for i in range(4):\n",
        "    get_base_clf = lambda: DecisionTreeClassifier(max_depth=max_depth)\n",
        "    smoteboost1 = SMOTEBoost(n_samples = n_samples[i],\n",
        "                                k_neighbors = k_neighbors,\n",
        "                                n_estimators = n_estimators,\n",
        "                                base_classifier = get_base_clf,\n",
        "                                random_state = random_state)\n",
        "    smoteboost1.fit(X_train, y_train)\n",
        "    y_pred = smoteboost1.predict(X_test)\n",
        "    f1[i] = f1_score(y_test, y_pred)\n",
        "    recall[i] = precision_score(y_test, y_pred)\n",
        "    precision[i] = recall_score(y_test, y_pred)"
      ],
      "execution_count": 8,
      "outputs": []
    },
    {
      "cell_type": "code",
      "metadata": {
        "colab": {
          "base_uri": "https://localhost:8080/",
          "height": 173
        },
        "id": "cZLg9Viz4__E",
        "outputId": "e1811ad9-cadf-4ec1-9a99-1debc4eb5db6"
      },
      "source": [
        "d = {\"SMOTE\":pd.Series(n_samples), \"Recall\": pd.Series(recall), \"Precision\": pd.Series(precision), \"F-value\": pd.Series(f1)}\n",
        "df = pd.DataFrame(d)\n",
        "df"
      ],
      "execution_count": 9,
      "outputs": [
        {
          "output_type": "execute_result",
          "data": {
            "text/html": [
              "<div>\n",
              "<style scoped>\n",
              "    .dataframe tbody tr th:only-of-type {\n",
              "        vertical-align: middle;\n",
              "    }\n",
              "\n",
              "    .dataframe tbody tr th {\n",
              "        vertical-align: top;\n",
              "    }\n",
              "\n",
              "    .dataframe thead th {\n",
              "        text-align: right;\n",
              "    }\n",
              "</style>\n",
              "<table border=\"1\" class=\"dataframe\">\n",
              "  <thead>\n",
              "    <tr style=\"text-align: right;\">\n",
              "      <th></th>\n",
              "      <th>SMOTE</th>\n",
              "      <th>Recall</th>\n",
              "      <th>Precision</th>\n",
              "      <th>F-value</th>\n",
              "    </tr>\n",
              "  </thead>\n",
              "  <tbody>\n",
              "    <tr>\n",
              "      <th>0</th>\n",
              "      <td>100</td>\n",
              "      <td>0.720000</td>\n",
              "      <td>0.72</td>\n",
              "      <td>0.720000</td>\n",
              "    </tr>\n",
              "    <tr>\n",
              "      <th>1</th>\n",
              "      <td>200</td>\n",
              "      <td>0.564516</td>\n",
              "      <td>0.70</td>\n",
              "      <td>0.625000</td>\n",
              "    </tr>\n",
              "    <tr>\n",
              "      <th>2</th>\n",
              "      <td>300</td>\n",
              "      <td>0.593750</td>\n",
              "      <td>0.76</td>\n",
              "      <td>0.666667</td>\n",
              "    </tr>\n",
              "    <tr>\n",
              "      <th>3</th>\n",
              "      <td>500</td>\n",
              "      <td>0.600000</td>\n",
              "      <td>0.78</td>\n",
              "      <td>0.678261</td>\n",
              "    </tr>\n",
              "  </tbody>\n",
              "</table>\n",
              "</div>"
            ],
            "text/plain": [
              "   SMOTE    Recall  Precision   F-value\n",
              "0    100  0.720000       0.72  0.720000\n",
              "1    200  0.564516       0.70  0.625000\n",
              "2    300  0.593750       0.76  0.666667\n",
              "3    500  0.600000       0.78  0.678261"
            ]
          },
          "metadata": {
            "tags": []
          },
          "execution_count": 9
        }
      ]
    },
    {
      "cell_type": "markdown",
      "metadata": {
        "id": "AURF1xq173RS"
      },
      "source": [
        "According to the table above, f-value has a maximum value at SMOTE = 100. Let us plot for this parameter the dependence of f-value on the amount of boosting rounds using SMOOTEBoost and AdaBoost."
      ]
    },
    {
      "cell_type": "code",
      "metadata": {
        "id": "agLn6wdt5lWy"
      },
      "source": [
        "max_depth = 5\n",
        "n_samples = 100\n",
        "k_neighbors = 5\n",
        "n_estimators = list(range(1,51))\n",
        "random_state = 42\n",
        "f = [0]*50\n",
        "\n",
        "for i in range(50):\n",
        "    get_base_clf = lambda: DecisionTreeClassifier(max_depth=max_depth)\n",
        "    smoteboost1 = SMOTEBoost(n_samples = n_samples,\n",
        "                                k_neighbors = k_neighbors,\n",
        "                                n_estimators = n_estimators[i],\n",
        "                                base_classifier = get_base_clf,\n",
        "                                random_state = random_state)\n",
        "    smoteboost1.fit(X_train, y_train)\n",
        "    y_pred = smoteboost1.predict(X_test)\n",
        "    f[i] = f1_score(y_test, y_pred)"
      ],
      "execution_count": 10,
      "outputs": []
    },
    {
      "cell_type": "code",
      "metadata": {
        "id": "ZK-PYlhV86Ku"
      },
      "source": [
        "n_estimators = list(range(1,51))\n",
        "f_ada = [0]*50\n",
        "for i in range(50):\n",
        "    clf = AdaBoostClassifier(n_estimators= n_estimators[i], random_state=42)\n",
        "    clf.fit(X_train, y_train)\n",
        "    y_pred_ada = clf.predict(X_test)\n",
        "    f_ada[i] = f1_score(y_test, y_pred_ada)"
      ],
      "execution_count": 11,
      "outputs": []
    },
    {
      "cell_type": "code",
      "metadata": {
        "colab": {
          "base_uri": "https://localhost:8080/",
          "height": 299
        },
        "id": "JX8cppnL9CEn",
        "outputId": "efdf4b26-bce7-46e8-c8e1-8d37778f9b78"
      },
      "source": [
        "from matplotlib.backends.backend_pdf import PdfPages\n",
        "from matplotlib.ticker import MaxNLocator\n",
        "fig1, ax = plt.subplots()\n",
        "plt.plot(list(range(8,26)),f[7:25], label = 'SMOTEBoost')\n",
        "plt.plot(list(range(8,26)),f_ada[7:25], label = 'AdaBoost')\n",
        "plt.xlabel('Boosting rounds', size = 12)\n",
        "plt.ylabel('F-value', size = 12)\n",
        "plt.title('SMOTE parameter = 100', size = 14)\n",
        "plt.legend()\n",
        "ax.xaxis.set_major_locator(MaxNLocator(integer=True))\n",
        "plt.savefig('f_value.pdf')\n",
        "with PdfPages('f_value.pdf') as pdf:\n",
        "    pdf.savefig(fig1)\n",
        "plt.show()"
      ],
      "execution_count": 14,
      "outputs": [
        {
          "output_type": "display_data",
          "data": {
            "image/png": "[encoded data removed]",
            "text/plain": [
              "<Figure size 432x288 with 1 Axes>"
            ]
          },
          "metadata": {
            "tags": [],
            "needs_background": "light"
          }
        }
      ]
    },
    {
      "cell_type": "markdown",
      "metadata": {
        "id": "fBZ2vTWv-I5Q"
      },
      "source": [
        "The f-value of the algorithm SMOOTEBoost is higher than AdaBoost."
      ]
    }
  ]
}
